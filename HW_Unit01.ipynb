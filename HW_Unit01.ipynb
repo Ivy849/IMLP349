{
 "cells": [
  {
   "cell_type": "markdown",
   "metadata": {},
   "source": [
    "### 01 - 奇偶數辨別（Odd or even）"
   ]
  },
  {
   "cell_type": "code",
   "execution_count": null,
   "metadata": {},
   "outputs": [
    {
     "name": "stdout",
     "output_type": "stream",
     "text": [
      "the number 1200 is out of range 1~1000\n",
      "the number 1100 is out of range 1~1000\n",
      "the number 45 is odd!\n"
     ]
    }
   ],
   "source": [
    "while True:\n",
    "    num = int( input( \"please input a number between 1~1000 \") )\n",
    "    if num > 0 and num < 1001:\n",
    "        if num % 2 == 0:\n",
    "            print( f\"the number {num} is even!\" )\n",
    "        else:\n",
    "            print( f\"the number {num} is odd!\" )\n",
    "        break\n",
    "    else:\n",
    "        print( f\"the number {num} is out of range 1~1000\" )"
   ]
  },
  {
   "cell_type": "markdown",
   "metadata": {},
   "source": [
    "### 02 - 填字遊戲（Mad libs game）"
   ]
  },
  {
   "cell_type": "code",
   "execution_count": null,
   "metadata": {},
   "outputs": [
    {
     "name": "stdout",
     "output_type": "stream",
     "text": [
      "要建立2次模板故事\n",
      "=====================================\n",
      "第001期 - AAA\n",
      "姓名: BBB\n",
      "學生背景: CCC\n",
      "-------------------------------------\n",
      "BBB修習完課程[ AAA ]後，\n",
      "結業成果獲得: DDD\n",
      "Well Done\n",
      "=====================================\n",
      "第002期 - aaa\n",
      "姓名: bbb\n",
      "學生背景: ccc\n",
      "-------------------------------------\n",
      "bbb修習完課程[ aaa ]後，\n",
      "結業成果獲得: ddd\n",
      "Well Done\n",
      "=====================================\n"
     ]
    }
   ],
   "source": [
    "times = int( input( \"請問需要建造幾次模板故事：\" ) )\n",
    "print( f\"要建立{times}次模板故事\" )\n",
    "print( \"=====================================\")\n",
    "i = 0\n",
    "for i in range( 0, times ):\n",
    "    A = input( \"請輸入課程期數:\" )\n",
    "    B = input( \"請輸入課程名稱:\" )\n",
    "    C = input( \"請輸入姓名:\" )\n",
    "    D = input( \"請輸入您的背景(科系或職業):\" )\n",
    "    E = input( \"請簡述對於本課程得期望(列出幾點修完課程想得到的技能/對自己未來的規劃):\" )\n",
    "    print( f\"第{A}期 - {B}\" )\n",
    "    print( f\"姓名: {C}\" )\n",
    "    print( f\"學生背景: {D}\" )\n",
    "    print( \"-------------------------------------\")\n",
    "    print( f\"{C}修習完課程[ {B} ]後，\" )\n",
    "    print( f\"結業成果獲得: {E}\" )\n",
    "    print( f\"Well Done\" )\n",
    "    print( \"=====================================\")\n",
    "    i += 1"
   ]
  },
  {
   "cell_type": "markdown",
   "metadata": {},
   "source": [
    "### 03 -  猜數字（Guess the number）"
   ]
  },
  {
   "cell_type": "code",
   "execution_count": null,
   "metadata": {},
   "outputs": [
    {
     "name": "stdout",
     "output_type": "stream",
     "text": [
      "the number 120 out of rannge!\n",
      "the number 110 out of rannge!\n",
      "your guess number is 50\n",
      "please input a number 0 < ? < 50!\n",
      "too big! you guess 1 times\n",
      "your guess number is 30\n",
      "please input a number 0 < ? < 30!\n",
      "too big! you guess 2 times\n",
      "your guess number is 20\n",
      "please input a number 0 < ? < 20!\n",
      "too big! you guess 3 times\n",
      "your guess number is 10\n",
      "please input a number 10 < ? < 20!\n",
      "too small! you guess 4 times\n",
      "your guess number is 15\n",
      "corrected!\n"
     ]
    }
   ],
   "source": [
    "import random\n",
    "\n",
    "Max = 100\n",
    "Min = 0\n",
    "ans = random.randint(1,100)\n",
    "count = 0\n",
    "while True:\n",
    "    guess = int( input(f\"please input a number {Min} < ? < {Max}!\") ) \n",
    "    if guess > Min and guess < Max:\n",
    "        print( f\"your guess number is {guess}\" )\n",
    "        count += 1\n",
    "        if guess == ans:\n",
    "            print( \"corrected!\" )\n",
    "            break\n",
    "        elif guess > ans:\n",
    "            Max = guess\n",
    "            print( f\"please input a number {Min} < ? < {Max}!\" )\n",
    "            print( f\"too big! you guess {count} times\" )\n",
    "        else:\n",
    "            Min = guess\n",
    "            print( f\"please input a number {Min} < ? < {Max}!\" )\n",
    "            print( f\"too small! you guess {count} times\" )\n",
    "    else:\n",
    "        print( f\"the number {guess} out of rannge!\")\n"
   ]
  },
  {
   "cell_type": "code",
   "execution_count": null,
   "metadata": {},
   "outputs": [
    {
     "name": "stdout",
     "output_type": "stream",
     "text": [
      "我要成為寫程式的專家\n",
      "你用了 10 個文字述說內心的想法\n",
      "------------------------------------------\n",
      "輸入一文字： 天\n",
      "計算 天 在文章出現次數： 9\n",
      "------------------------------------------\n",
      "文章總字數： 1081\n",
      "去除標點符號後的文章總字數： 840\n",
      "------------------------------------------\n",
      "出現最多的字： 不\n",
      "出現的次數： 14\n"
     ]
    }
   ],
   "source": [
    "s = '''漢皇重色思傾國，御宇多年求不得。\n",
    "\n",
    "楊家有女初長成，養在深閏人未識。\n",
    "\n",
    "天生麗質難自棄，一朝選在君王側。\n",
    "\n",
    "回眸一笑百媚生，六宮粉黛無顏色。\n",
    "\n",
    "春寒賜浴華清池，溫泉水滑洗凝脂；\n",
    "\n",
    "侍兒扶起嬌無力，始是新承恩澤時。\n",
    "\n",
    "雲鬢花顏金步搖，芙蓉帳暖度春宵；\n",
    "\n",
    "春宵苦短日高起，從此君王不早朝。\n",
    "\n",
    "承歡侍宴無閑暇，春從春遊夜專夜。\n",
    "\n",
    "後宮佳麗三千人，三千寵愛在一身。\n",
    "\n",
    "金屋妝成嬌侍夜，玉樓宴罷醉和春。\n",
    "\n",
    "姊妹弟兄皆列士，可憐光彩生門戶。\n",
    "\n",
    "遂令天下父母心，不重生男重生女。\n",
    "\n",
    "驪宮高處入青雲，仙樂風飄處處聞。\n",
    "\n",
    "緩歌慢舞凝絲竹，盡日君王看不足。\n",
    "\n",
    "漁陽鼙鼓動地來，驚破霓裳羽衣曲。\n",
    "\n",
    "九重城闕煙塵生，千乘萬騎西南行。\n",
    "\n",
    "翠華搖搖行復止，西出都門百餘里；\n",
    "\n",
    "六軍不發無奈何？宛轉蛾眉馬前死。\n",
    "\n",
    "花鈿委地無人收，翠翹金雀玉搔頭。\n",
    "\n",
    "君王掩面救不得，回看血淚相和流。\n",
    "\n",
    "黃埃散漫風蕭索，雲棧縈紆登劍閣。\n",
    "\n",
    "峨嵋山下少人行，旌旗無光日色薄。\n",
    "\n",
    "蜀江水碧蜀山青，聖主朝朝暮暮情。\n",
    "\n",
    "行宮見月傷心色，夜雨聞鈴腸斷聲。\n",
    "\n",
    "天旋地轉迴龍馭，到此躊躇不能去。\n",
    "\n",
    "馬嵬坡下泥土中，不見玉顏空死處。\n",
    "\n",
    "君臣相顧盡霑衣，東望都門信馬歸。\n",
    "\n",
    "歸來池苑皆依舊，太液芙蓉未央柳；\n",
    "\n",
    "芙蓉如面柳如眉，對此如何不淚垂？\n",
    "\n",
    "春風桃李花開日，秋雨梧桐葉落時。\n",
    "\n",
    "西宮南內多秋草，落葉滿階紅不掃。\n",
    "\n",
    "梨園子弟白髮新，椒房阿監青娥老。\n",
    "\n",
    "夕殿螢飛思悄然，孤燈挑盡未成眠。\n",
    "\n",
    "遲遲鐘鼓初長夜，耿耿星河欲曙天。\n",
    "\n",
    "鴛鴦瓦冷霜華重，翡翠衾寒誰與共？\n",
    "\n",
    "悠悠生死別經年，魂魄不曾來入夢。\n",
    "\n",
    "臨邛道士鴻都客，能以精誠致魂魄；\n",
    "\n",
    "為感君王輾轉思，遂教方士殷勤覓。\n",
    "\n",
    "排空馭氣奔如電，升天入地求之遍；\n",
    "\n",
    "上窮碧落下黃泉，兩處茫茫皆不見。\n",
    "\n",
    "忽聞海上有仙山，山在虛無縹緲間。\n",
    "\n",
    "樓閣玲瓏五雲起，其中綽約多仙子。\n",
    "\n",
    "中有一人字太真，雪膚花貌參差是。\n",
    "\n",
    "金闕西廂叩玉扃，轉教小玉報雙成。\n",
    "\n",
    "聞道漢家天子使，九華帳裡夢魂驚；\n",
    "\n",
    "攬衣推枕起徘徊，珠箔銀屏迤邐開。\n",
    "\n",
    "雲鬢半偏新睡覺，花冠不整下堂來。\n",
    "\n",
    "風吹仙袂飄飄舉，猶似霓裳羽衣舞。\n",
    "\n",
    "玉容寂寞淚闌干，梨花一枝春帶雨。\n",
    "\n",
    "含情凝睇謝君王，一別音容兩渺茫。\n",
    "\n",
    "昭陽殿裡恩愛絕，蓬萊宮中日月長。\n",
    "\n",
    "回頭下望人寰處，不見長安見塵霧。\n",
    "\n",
    "唯將舊物表深情，鈿合金釵寄將去。\n",
    "\n",
    "釵留一股合一扇，釵擘黃金合分鈿。\n",
    "\n",
    "但教心似金鈿堅，天上人間會相見。\n",
    "\n",
    "臨別殷勤重寄詞，詞中有誓兩心知，\n",
    "\n",
    "七月七日長生殿，夜半無人私語時：「\n",
    "\n",
    "在天願作比翼鳥，在地願為連理枝。」\n",
    "\n",
    "天長地久有時盡，此恨綿綿無絕期。\n",
    "'''\n",
    "word = input()\n",
    "print( word )\n",
    "print( \"你用了 %d 個文字述說內心的想法\" %(len(word)) )\n",
    "print (\"------------------------------------------\")\n",
    "\n",
    "String = input()\n",
    "print( \"輸入一文字：\", String )\n",
    "s_num = s.count( String )\n",
    "print( f\"計算 {String} 在文章出現次數：\", s_num )\n",
    "print (\"------------------------------------------\")\n",
    "\n",
    "print( \"文章總字數：\", len(s) )\n",
    "for i in \"。，\\n；：？「」\":\n",
    "    s = s.replace(i, \"\")\n",
    "print(\"去除標點符號後的文章總字數：\", len(s))\n",
    "print (\"------------------------------------------\")\n",
    "\n",
    "maxchar = \"\"\n",
    "maxch = 0\n",
    "for astr in s:\n",
    "    act = s.count(astr)\n",
    "    if act > maxch:\n",
    "        maxchar = astr\n",
    "        maxch = act\n",
    "print( \"出現最多的字：\", maxchar )\n",
    "print( \"出現的次數：\", maxch )"
   ]
  },
  {
   "cell_type": "markdown",
   "metadata": {},
   "source": [
    "### 05 - Email 域名判斷器（Email slicer）"
   ]
  },
  {
   "cell_type": "code",
   "execution_count": 8,
   "metadata": {},
   "outputs": [
    {
     "name": "stdout",
     "output_type": "stream",
     "text": [
      "your username is mary.jane and your domain name is gmail.com\n",
      "這是註冊在 Google 之下的 Email 地址\n",
      "your username is matt.pan and your domain name is myfantasy.com\n",
      "這是在 myfantasy.com 之下自定義域\n"
     ]
    }
   ],
   "source": [
    "for i in range(0,2):\n",
    "    email = input( \"what is your email address? \").strip()\n",
    "    user_name = email[ : email.index(\"@\") ]\n",
    "    domain_name = email[ email.index(\"@\")+1 : len(email) ]\n",
    "    output = \"your username is {} and your domain name is {}\".format( user_name, domain_name )\n",
    "    print( output )\n",
    "\n",
    "    domain = {'gmail.com':'Google','yahoo.com.tw':'Yahoo','ntu.edu.tw':'臺大','hotmail.com.tw':'Hotmail','hotmail.com':'Hotmail'}\n",
    "    if domain_name in domain:\n",
    "        output = \"這是註冊在 {} 之下的 Email 地址\".format( domain[domain_name] )\n",
    "    else:\n",
    "        output = \"這是在 {} 之下自定義域\".format( domain_name )\n",
    "    print( output )"
   ]
  },
  {
   "cell_type": "markdown",
   "metadata": {},
   "source": [
    "### 06 - 及格名單（Pass list）"
   ]
  },
  {
   "cell_type": "code",
   "execution_count": 23,
   "metadata": {},
   "outputs": [
    {
     "name": "stdout",
     "output_type": "stream",
     "text": [
      "數學及格但英文不及格名單： ['光彦', '美環']\n",
      "數學不及格但英文及格名單： ['丸尾', '野口']\n",
      "兩者皆及格名單： ['柯南', '步美', '灰原']\n",
      "全班同學： ['丸尾', '光彦', '柯南', '步美', '灰原', '美環', '野口']\n"
     ]
    }
   ],
   "source": [
    "m = {'柯南','灰原','步美','美環','光彦'}\n",
    "e = {'柯南','灰原','丸尾','野口','步美'}\n",
    "a = m.difference(e)\n",
    "a1 = list(a)\n",
    "a1.sort()\n",
    "print( \"數學及格但英文不及格名單：\", a1 )\n",
    "\n",
    "b = e.difference(m)\n",
    "b1 = list(b)\n",
    "b1.sort()\n",
    "print( \"數學不及格但英文及格名單：\", b1 )\n",
    "\n",
    "c = m.intersection(e)\n",
    "c1 = list(c)\n",
    "c1.sort()\n",
    "print( \"兩者皆及格名單：\", c1 )\n",
    "\n",
    "full = m.union(e)\n",
    "d1 = list(full)\n",
    "d1.sort()\n",
    "print( \"全班同學：\", d1 )"
   ]
  },
  {
   "cell_type": "markdown",
   "metadata": {},
   "source": [
    "### 07 - 查詢路徑下所有檔案"
   ]
  },
  {
   "cell_type": "code",
   "execution_count": null,
   "metadata": {},
   "outputs": [
    {
     "name": "stdout",
     "output_type": "stream",
     "text": [
      "['file1', 'file2', 'hw_07945001.txt', 'hw_079450010.doc', 'hw_07945002.txt', 'hw_07945003.txt', 'hw_07945004.txt', 'hw_07945005.txt', 'hw_07945007.txt', 'hw_07945008.txt', 'hw_07945009.txt']\n",
      "I'm a directory：file1\n",
      "I'm a directory：file2\n",
      "I'm a file：hw_07945001.txt\n",
      "I'm a file：hw_079450010.doc\n",
      "I'm a file：hw_07945002.txt\n",
      "I'm a file：hw_07945003.txt\n",
      "I'm a file：hw_07945004.txt\n",
      "I'm a file：hw_07945005.txt\n",
      "I'm a file：hw_07945007.txt\n",
      "I'm a file：hw_07945008.txt\n",
      "I'm a file：hw_07945009.txt\n",
      "['07945001', '079450010', '07945002', '07945003', '07945004', '07945005', '07945007', '07945008', '07945009']\n",
      "079450010繳交檔案不是txt檔!\n"
     ]
    }
   ],
   "source": [
    "import os\n",
    "\n",
    "yourpath = input()\n",
    "allFileList = os.listdir( yourpath )\n",
    "print( allFileList )\n",
    "ID = []\n",
    "file_name = []\n",
    "for file in allFileList:\n",
    "    if os.path.isdir( os.path.join( yourpath, file) ):\n",
    "        print( \"I'm a directory：\" + file )\n",
    "    elif os.path.isfile( os.path.join( yourpath, file) ):\n",
    "        print( \"I'm a file：\" + file )\n",
    "        ID.append( file[ file.index(\"_\")+1 : file.index(\".\")] )\n",
    "        file_name = file[ file.index(\".\")+1 : len(file)] \n",
    "        if file_name != \"txt\":\n",
    "            ID_wrong = file[ file.index(\"_\")+1 : file.index(\".\")]        \n",
    "print( ID )\n",
    "print( f\"{ID_wrong}繳交檔案不是txt檔!\" )    \n"
   ]
  },
  {
   "cell_type": "markdown",
   "metadata": {},
   "source": [
    "### 08 - 資料夾管理(shutil)"
   ]
  },
  {
   "cell_type": "code",
   "execution_count": 1,
   "metadata": {},
   "outputs": [
    {
     "name": "stdout",
     "output_type": "stream",
     "text": [
      "['f1', 'f2']\n",
      "['f2', 'folder1']\n"
     ]
    },
    {
     "ename": "PermissionError",
     "evalue": "[WinError 5] 存取被拒。: 'folder1'",
     "output_type": "error",
     "traceback": [
      "\u001b[1;31m---------------------------------------------------------------------------\u001b[0m",
      "\u001b[1;31mPermissionError\u001b[0m                           Traceback (most recent call last)",
      "Cell \u001b[1;32mIn[1], line 20\u001b[0m\n\u001b[0;32m     17\u001b[0m \u001b[38;5;28mprint\u001b[39m( \u001b[38;5;28msorted\u001b[39m(os\u001b[38;5;241m.\u001b[39mlistdir()))\n\u001b[0;32m     18\u001b[0m a \u001b[38;5;241m=\u001b[39m \u001b[38;5;28minput\u001b[39m( \u001b[38;5;124m\"\u001b[39m\u001b[38;5;124mEnter\u001b[39m\u001b[38;5;124m\"\u001b[39m )\n\u001b[1;32m---> 20\u001b[0m \u001b[43mos\u001b[49m\u001b[38;5;241;43m.\u001b[39;49m\u001b[43mrmdir\u001b[49m\u001b[43m(\u001b[49m\u001b[43m \u001b[49m\u001b[38;5;124;43m\"\u001b[39;49m\u001b[38;5;124;43mfolder1\u001b[39;49m\u001b[38;5;124;43m\"\u001b[39;49m\u001b[43m \u001b[49m\u001b[43m)\u001b[49m\n\u001b[0;32m     21\u001b[0m \u001b[38;5;28mprint\u001b[39m( \u001b[38;5;28msorted\u001b[39m(os\u001b[38;5;241m.\u001b[39mlistdir()) )\n\u001b[0;32m     22\u001b[0m a \u001b[38;5;241m=\u001b[39m \u001b[38;5;28minput\u001b[39m( \u001b[38;5;124m\"\u001b[39m\u001b[38;5;124mEnter\u001b[39m\u001b[38;5;124m\"\u001b[39m )\n",
      "\u001b[1;31mPermissionError\u001b[0m: [WinError 5] 存取被拒。: 'folder1'"
     ]
    }
   ],
   "source": [
    "import os\n",
    "import shutil\n",
    "\n",
    "if os.path.exists( \"files\" ):\n",
    "    shutil.rmtree( \"files\" )\n",
    "os.mkdir( \"files\" )\n",
    "\n",
    "n = int( input() )\n",
    "\n",
    "os.chdir( \"files\" )\n",
    "for i in range( 1, n+1 ):\n",
    "    os.mkdir( \"f\"+str(i) )\n",
    "print( sorted(os.listdir()) )\n",
    "a = input( \"Enter\" )\n",
    "\n",
    "os.rename( \"f1\", \"folder1\" )\n",
    "print( sorted(os.listdir()))\n",
    "a = input( \"Enter\" )\n",
    "\n",
    "os.rmdir( \"folder1\" )\n",
    "print( sorted(os.listdir()) )\n",
    "a = input( \"Enter\" )\n",
    "\n",
    "os.chdir( \"../\" )\n",
    "shutil.rmtree( \"files\" )"
   ]
  },
  {
   "cell_type": "markdown",
   "metadata": {},
   "source": [
    "### 09 - 回文判斷（Is a palindrome）"
   ]
  },
  {
   "cell_type": "code",
   "execution_count": 2,
   "metadata": {},
   "outputs": [
    {
     "name": "stdout",
     "output_type": "stream",
     "text": [
      "\n",
      "Palindrome checker\n",
      "\n",
      "Please enter a word, phrase, or a sentence \n",
      "to check if it is a palindrome:  資工訊練班\n",
      "The text you have entered is not a palindrome.\n"
     ]
    }
   ],
   "source": [
    "rawInput = input(\"\\nPlease enter a word, phrase, or a sentence \\nto check if it is a palindrome: \") \n",
    "def convertInputString():\n",
    "    rawString = rawInput.lower()   \n",
    "    rawList = list(rawString)\n",
    "    return rawList\n",
    "\n",
    "def stripAnalphabetics(dirtyList): \n",
    "    analphabeticList = [\" \", \"-\", \".\", \",\", \":\", \";\", \"!\", \"?\", \"'\", \"\\\"\"] \n",
    "    for character in analphabeticList:\n",
    "        if character in dirtyList:\n",
    "            dirtyList.remove(character)\n",
    "            return stripAnalphabetics(dirtyList)\n",
    "    return dirtyList\n",
    "\n",
    "def runPalindromeCheck(straightList):\n",
    "    reversedList = straightList[::-1] \n",
    "    if reversedList == straightList:  \n",
    "        return \"The text you have entered is a palindrome!\" \n",
    "    else: \n",
    "        return \"The text you have entered is not a palindrome.\" \n",
    "\n",
    "def main(): \n",
    "    print(\"\\nPalindrome checker\") \n",
    "    print(\"\\nPlease enter a word, phrase, or a sentence \\nto check if it is a palindrome: \", rawInput) \n",
    "    originalList = convertInputString()\n",
    "    originalList = stripAnalphabetics(originalList)\n",
    "    paindromeCheck = runPalindromeCheck(originalList)\n",
    "    print(paindromeCheck)\n",
    "    \n",
    "main() "
   ]
  },
  {
   "cell_type": "markdown",
   "metadata": {},
   "source": [
    "### 10 - 總成績計算"
   ]
  },
  {
   "cell_type": "code",
   "execution_count": 15,
   "metadata": {},
   "outputs": [
    {
     "name": "stdout",
     "output_type": "stream",
     "text": [
      "廖冠霖 142\n",
      "王力中 124\n",
      "張平舜 108\n",
      "洪婷婷 128\n",
      "林士雨 86\n",
      "陳宗翰 28\n",
      "洪偉珊 134\n",
      "顏又芹 32\n",
      "王亦夏 55\n",
      "姚成華 77\n",
      "潘詠月 144\n",
      "倪浩迪 163\n",
      "郭心怡 109\n",
      "黃政聖 99\n",
      "顏曉雲 135\n",
      "彭曉雯 77\n",
      "葉健仁 117\n",
      "賴軒年 167\n",
      "韓致遠 52\n",
      "陳常芝 80\n",
      "黃佩樺 108\n",
      "林詩虹 178\n",
      "黃心卿 96\n",
      "郭奕全 101\n",
      "游子揚 127\n",
      "杜茜行 107\n",
      "李美一 64\n",
      "陳姿茜 77\n",
      "涂珮瑜 134\n",
      "夏明哲 111\n"
     ]
    }
   ],
   "source": [
    "fin_E = open( r\"C:\\Users\\IE\\OneDrive\\2-工作\\程式設計\\439_NTU_IMLP\\Homework\\data\\english_list.csv\", \"r\", encoding=\"UTF-8\" )\n",
    "fin_M = open( r\"C:\\Users\\IE\\OneDrive\\2-工作\\程式設計\\439_NTU_IMLP\\Homework\\data\\math_list.csv\", \"r\", encoding=\"UTF-8\" )\n",
    "lisE=[]\n",
    "lisM=[]\n",
    "name=[]\n",
    "for line in fin_E.readlines():\n",
    "    line = line.strip().split(\",\")  \n",
    "    name.append(line[0])    \n",
    "    lisE.append(line[1])    \n",
    "    \n",
    "for line in fin_M.readlines():\n",
    "    line = line.strip().split(\",\")\n",
    "    lisM.append(line[1])    \n",
    "    \n",
    "score=[]\n",
    "fout = open(\"Score.csv\",\"w\")\n",
    "line=''\n",
    "for i in range(1,len(name)):\n",
    "    score.append(int(lisE[i])+int(lisM[i]))\n",
    "    list1 = [name[i],str(score[i-1]),\"\\n\"]\n",
    "    print(name[i],str(score[i-1]))\n",
    "    \n",
    "    line = \",\".join(list1) \n",
    "    fout.write(line)\n",
    "fin_E.close()\n",
    "fin_M.close()\n",
    "fout.close()    "
   ]
  }
 ],
 "metadata": {
  "kernelspec": {
   "display_name": "base",
   "language": "python",
   "name": "python3"
  },
  "language_info": {
   "codemirror_mode": {
    "name": "ipython",
    "version": 3
   },
   "file_extension": ".py",
   "mimetype": "text/x-python",
   "name": "python",
   "nbconvert_exporter": "python",
   "pygments_lexer": "ipython3",
   "version": "3.12.3"
  }
 },
 "nbformat": 4,
 "nbformat_minor": 2
}
